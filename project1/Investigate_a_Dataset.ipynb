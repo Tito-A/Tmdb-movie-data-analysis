{
 "cells": [
  {
   "cell_type": "markdown",
   "metadata": {},
   "source": [
    "\n",
    "\n",
    "# Project: Tmbd Movie Data\n",
    "\n",
    "## Table of Contents\n",
    "<ul>\n",
    "<li><a href=\"#intro\">Introduction</a></li>\n",
    "<li><a href=\"#wrangling\">Data Wrangling</a></li>\n",
    "<li><a href=\"#eda\">Exploratory Data Analysis</a></li>\n",
    "<li><a href=\"#conclusions\">Conclusions</a></li>\n",
    "</ul>"
   ]
  },
  {
   "cell_type": "markdown",
   "metadata": {},
   "source": [
    "<a id='intro'></a>\n",
    "## Introduction\n",
    "\n",
    "### Dataset Description \n",
    "\n",
    "\n",
    "     In this project we will be analysing the movie database(TMDb) which contains over 10,000 movie data rleased between the years 1960 to 2015. The Dataset contains 21 columns which includes the id, imdb_id, genres of movie, budget and revenue and its adjusted columns in terms of 2010 dollars, popularity, vote count and many other columns. \n",
    "     \n",
    "    I would like  to see the trends in budget, revenue and popularity over the years. Maybe find the change in genres and spot production companies that have been successful with their movie releases.\n",
    "    \n",
    "    In this project i would be checking for the years that produced the most movies and how much profit was made. Also i would like to know if popularity of the movie affects the vote count.\n",
    "   \n"
   ]
  },
  {
   "cell_type": "code",
   "execution_count": 26,
   "metadata": {},
   "outputs": [],
   "source": [
    "import pandas as pd\n",
    "import numpy as np\n",
    "import matplotlib.pyplot as plt\n",
    "import seaborn as sns\n",
    "%matplotlib inline\n"
   ]
  },
  {
   "cell_type": "code",
   "execution_count": 27,
   "metadata": {},
   "outputs": [
    {
     "data": {
      "text/html": [
       "<div>\n",
       "<style scoped>\n",
       "    .dataframe tbody tr th:only-of-type {\n",
       "        vertical-align: middle;\n",
       "    }\n",
       "\n",
       "    .dataframe tbody tr th {\n",
       "        vertical-align: top;\n",
       "    }\n",
       "\n",
       "    .dataframe thead th {\n",
       "        text-align: right;\n",
       "    }\n",
       "</style>\n",
       "<table border=\"1\" class=\"dataframe\">\n",
       "  <thead>\n",
       "    <tr style=\"text-align: right;\">\n",
       "      <th></th>\n",
       "      <th>id</th>\n",
       "      <th>imdb_id</th>\n",
       "      <th>popularity</th>\n",
       "      <th>budget</th>\n",
       "      <th>revenue</th>\n",
       "      <th>original_title</th>\n",
       "      <th>cast</th>\n",
       "      <th>homepage</th>\n",
       "      <th>director</th>\n",
       "      <th>tagline</th>\n",
       "      <th>...</th>\n",
       "      <th>overview</th>\n",
       "      <th>runtime</th>\n",
       "      <th>genres</th>\n",
       "      <th>production_companies</th>\n",
       "      <th>release_date</th>\n",
       "      <th>vote_count</th>\n",
       "      <th>vote_average</th>\n",
       "      <th>release_year</th>\n",
       "      <th>budget_adj</th>\n",
       "      <th>revenue_adj</th>\n",
       "    </tr>\n",
       "  </thead>\n",
       "  <tbody>\n",
       "    <tr>\n",
       "      <th>0</th>\n",
       "      <td>135397</td>\n",
       "      <td>tt0369610</td>\n",
       "      <td>32.985763</td>\n",
       "      <td>150000000</td>\n",
       "      <td>1513528810</td>\n",
       "      <td>Jurassic World</td>\n",
       "      <td>Chris Pratt|Bryce Dallas Howard|Irrfan Khan|Vi...</td>\n",
       "      <td>http://www.jurassicworld.com/</td>\n",
       "      <td>Colin Trevorrow</td>\n",
       "      <td>The park is open.</td>\n",
       "      <td>...</td>\n",
       "      <td>Twenty-two years after the events of Jurassic ...</td>\n",
       "      <td>124</td>\n",
       "      <td>Action|Adventure|Science Fiction|Thriller</td>\n",
       "      <td>Universal Studios|Amblin Entertainment|Legenda...</td>\n",
       "      <td>6/9/15</td>\n",
       "      <td>5562</td>\n",
       "      <td>6.5</td>\n",
       "      <td>2015</td>\n",
       "      <td>1.379999e+08</td>\n",
       "      <td>1.392446e+09</td>\n",
       "    </tr>\n",
       "    <tr>\n",
       "      <th>1</th>\n",
       "      <td>76341</td>\n",
       "      <td>tt1392190</td>\n",
       "      <td>28.419936</td>\n",
       "      <td>150000000</td>\n",
       "      <td>378436354</td>\n",
       "      <td>Mad Max: Fury Road</td>\n",
       "      <td>Tom Hardy|Charlize Theron|Hugh Keays-Byrne|Nic...</td>\n",
       "      <td>http://www.madmaxmovie.com/</td>\n",
       "      <td>George Miller</td>\n",
       "      <td>What a Lovely Day.</td>\n",
       "      <td>...</td>\n",
       "      <td>An apocalyptic story set in the furthest reach...</td>\n",
       "      <td>120</td>\n",
       "      <td>Action|Adventure|Science Fiction|Thriller</td>\n",
       "      <td>Village Roadshow Pictures|Kennedy Miller Produ...</td>\n",
       "      <td>5/13/15</td>\n",
       "      <td>6185</td>\n",
       "      <td>7.1</td>\n",
       "      <td>2015</td>\n",
       "      <td>1.379999e+08</td>\n",
       "      <td>3.481613e+08</td>\n",
       "    </tr>\n",
       "    <tr>\n",
       "      <th>2</th>\n",
       "      <td>262500</td>\n",
       "      <td>tt2908446</td>\n",
       "      <td>13.112507</td>\n",
       "      <td>110000000</td>\n",
       "      <td>295238201</td>\n",
       "      <td>Insurgent</td>\n",
       "      <td>Shailene Woodley|Theo James|Kate Winslet|Ansel...</td>\n",
       "      <td>http://www.thedivergentseries.movie/#insurgent</td>\n",
       "      <td>Robert Schwentke</td>\n",
       "      <td>One Choice Can Destroy You</td>\n",
       "      <td>...</td>\n",
       "      <td>Beatrice Prior must confront her inner demons ...</td>\n",
       "      <td>119</td>\n",
       "      <td>Adventure|Science Fiction|Thriller</td>\n",
       "      <td>Summit Entertainment|Mandeville Films|Red Wago...</td>\n",
       "      <td>3/18/15</td>\n",
       "      <td>2480</td>\n",
       "      <td>6.3</td>\n",
       "      <td>2015</td>\n",
       "      <td>1.012000e+08</td>\n",
       "      <td>2.716190e+08</td>\n",
       "    </tr>\n",
       "    <tr>\n",
       "      <th>3</th>\n",
       "      <td>140607</td>\n",
       "      <td>tt2488496</td>\n",
       "      <td>11.173104</td>\n",
       "      <td>200000000</td>\n",
       "      <td>2068178225</td>\n",
       "      <td>Star Wars: The Force Awakens</td>\n",
       "      <td>Harrison Ford|Mark Hamill|Carrie Fisher|Adam D...</td>\n",
       "      <td>http://www.starwars.com/films/star-wars-episod...</td>\n",
       "      <td>J.J. Abrams</td>\n",
       "      <td>Every generation has a story.</td>\n",
       "      <td>...</td>\n",
       "      <td>Thirty years after defeating the Galactic Empi...</td>\n",
       "      <td>136</td>\n",
       "      <td>Action|Adventure|Science Fiction|Fantasy</td>\n",
       "      <td>Lucasfilm|Truenorth Productions|Bad Robot</td>\n",
       "      <td>12/15/15</td>\n",
       "      <td>5292</td>\n",
       "      <td>7.5</td>\n",
       "      <td>2015</td>\n",
       "      <td>1.839999e+08</td>\n",
       "      <td>1.902723e+09</td>\n",
       "    </tr>\n",
       "    <tr>\n",
       "      <th>4</th>\n",
       "      <td>168259</td>\n",
       "      <td>tt2820852</td>\n",
       "      <td>9.335014</td>\n",
       "      <td>190000000</td>\n",
       "      <td>1506249360</td>\n",
       "      <td>Furious 7</td>\n",
       "      <td>Vin Diesel|Paul Walker|Jason Statham|Michelle ...</td>\n",
       "      <td>http://www.furious7.com/</td>\n",
       "      <td>James Wan</td>\n",
       "      <td>Vengeance Hits Home</td>\n",
       "      <td>...</td>\n",
       "      <td>Deckard Shaw seeks revenge against Dominic Tor...</td>\n",
       "      <td>137</td>\n",
       "      <td>Action|Crime|Thriller</td>\n",
       "      <td>Universal Pictures|Original Film|Media Rights ...</td>\n",
       "      <td>4/1/15</td>\n",
       "      <td>2947</td>\n",
       "      <td>7.3</td>\n",
       "      <td>2015</td>\n",
       "      <td>1.747999e+08</td>\n",
       "      <td>1.385749e+09</td>\n",
       "    </tr>\n",
       "  </tbody>\n",
       "</table>\n",
       "<p>5 rows × 21 columns</p>\n",
       "</div>"
      ],
      "text/plain": [
       "       id    imdb_id  popularity     budget     revenue  \\\n",
       "0  135397  tt0369610   32.985763  150000000  1513528810   \n",
       "1   76341  tt1392190   28.419936  150000000   378436354   \n",
       "2  262500  tt2908446   13.112507  110000000   295238201   \n",
       "3  140607  tt2488496   11.173104  200000000  2068178225   \n",
       "4  168259  tt2820852    9.335014  190000000  1506249360   \n",
       "\n",
       "                 original_title  \\\n",
       "0                Jurassic World   \n",
       "1            Mad Max: Fury Road   \n",
       "2                     Insurgent   \n",
       "3  Star Wars: The Force Awakens   \n",
       "4                     Furious 7   \n",
       "\n",
       "                                                cast  \\\n",
       "0  Chris Pratt|Bryce Dallas Howard|Irrfan Khan|Vi...   \n",
       "1  Tom Hardy|Charlize Theron|Hugh Keays-Byrne|Nic...   \n",
       "2  Shailene Woodley|Theo James|Kate Winslet|Ansel...   \n",
       "3  Harrison Ford|Mark Hamill|Carrie Fisher|Adam D...   \n",
       "4  Vin Diesel|Paul Walker|Jason Statham|Michelle ...   \n",
       "\n",
       "                                            homepage          director  \\\n",
       "0                      http://www.jurassicworld.com/   Colin Trevorrow   \n",
       "1                        http://www.madmaxmovie.com/     George Miller   \n",
       "2     http://www.thedivergentseries.movie/#insurgent  Robert Schwentke   \n",
       "3  http://www.starwars.com/films/star-wars-episod...       J.J. Abrams   \n",
       "4                           http://www.furious7.com/         James Wan   \n",
       "\n",
       "                         tagline      ...       \\\n",
       "0              The park is open.      ...        \n",
       "1             What a Lovely Day.      ...        \n",
       "2     One Choice Can Destroy You      ...        \n",
       "3  Every generation has a story.      ...        \n",
       "4            Vengeance Hits Home      ...        \n",
       "\n",
       "                                            overview runtime  \\\n",
       "0  Twenty-two years after the events of Jurassic ...     124   \n",
       "1  An apocalyptic story set in the furthest reach...     120   \n",
       "2  Beatrice Prior must confront her inner demons ...     119   \n",
       "3  Thirty years after defeating the Galactic Empi...     136   \n",
       "4  Deckard Shaw seeks revenge against Dominic Tor...     137   \n",
       "\n",
       "                                      genres  \\\n",
       "0  Action|Adventure|Science Fiction|Thriller   \n",
       "1  Action|Adventure|Science Fiction|Thriller   \n",
       "2         Adventure|Science Fiction|Thriller   \n",
       "3   Action|Adventure|Science Fiction|Fantasy   \n",
       "4                      Action|Crime|Thriller   \n",
       "\n",
       "                                production_companies release_date vote_count  \\\n",
       "0  Universal Studios|Amblin Entertainment|Legenda...       6/9/15       5562   \n",
       "1  Village Roadshow Pictures|Kennedy Miller Produ...      5/13/15       6185   \n",
       "2  Summit Entertainment|Mandeville Films|Red Wago...      3/18/15       2480   \n",
       "3          Lucasfilm|Truenorth Productions|Bad Robot     12/15/15       5292   \n",
       "4  Universal Pictures|Original Film|Media Rights ...       4/1/15       2947   \n",
       "\n",
       "   vote_average  release_year    budget_adj   revenue_adj  \n",
       "0           6.5          2015  1.379999e+08  1.392446e+09  \n",
       "1           7.1          2015  1.379999e+08  3.481613e+08  \n",
       "2           6.3          2015  1.012000e+08  2.716190e+08  \n",
       "3           7.5          2015  1.839999e+08  1.902723e+09  \n",
       "4           7.3          2015  1.747999e+08  1.385749e+09  \n",
       "\n",
       "[5 rows x 21 columns]"
      ]
     },
     "execution_count": 27,
     "metadata": {},
     "output_type": "execute_result"
    }
   ],
   "source": [
    "df= pd.read_csv('tmdb-movies.csv')\n",
    "df.head()"
   ]
  },
  {
   "cell_type": "code",
   "execution_count": 28,
   "metadata": {},
   "outputs": [
    {
     "name": "stdout",
     "output_type": "stream",
     "text": [
      "                  id    popularity        budget       revenue       runtime  \\\n",
      "count   10866.000000  10866.000000  1.086600e+04  1.086600e+04  10866.000000   \n",
      "mean    66064.177434      0.646441  1.462570e+07  3.982332e+07    102.070863   \n",
      "std     92130.136561      1.000185  3.091321e+07  1.170035e+08     31.381405   \n",
      "min         5.000000      0.000065  0.000000e+00  0.000000e+00      0.000000   \n",
      "25%     10596.250000      0.207583  0.000000e+00  0.000000e+00     90.000000   \n",
      "50%     20669.000000      0.383856  0.000000e+00  0.000000e+00     99.000000   \n",
      "75%     75610.000000      0.713817  1.500000e+07  2.400000e+07    111.000000   \n",
      "max    417859.000000     32.985763  4.250000e+08  2.781506e+09    900.000000   \n",
      "\n",
      "         vote_count  vote_average  release_year    budget_adj   revenue_adj  \n",
      "count  10866.000000  10866.000000  10866.000000  1.086600e+04  1.086600e+04  \n",
      "mean     217.389748      5.974922   2001.322658  1.755104e+07  5.136436e+07  \n",
      "std      575.619058      0.935142     12.812941  3.430616e+07  1.446325e+08  \n",
      "min       10.000000      1.500000   1960.000000  0.000000e+00  0.000000e+00  \n",
      "25%       17.000000      5.400000   1995.000000  0.000000e+00  0.000000e+00  \n",
      "50%       38.000000      6.000000   2006.000000  0.000000e+00  0.000000e+00  \n",
      "75%      145.750000      6.600000   2011.000000  2.085325e+07  3.369710e+07  \n",
      "max     9767.000000      9.200000   2015.000000  4.250000e+08  2.827124e+09  \n"
     ]
    },
    {
     "data": {
      "text/plain": [
       "array([[<matplotlib.axes._subplots.AxesSubplot object at 0x7f4bf0536ef0>,\n",
       "        <matplotlib.axes._subplots.AxesSubplot object at 0x7f4bf578f588>,\n",
       "        <matplotlib.axes._subplots.AxesSubplot object at 0x7f4bf5760080>],\n",
       "       [<matplotlib.axes._subplots.AxesSubplot object at 0x7f4bf33cf320>,\n",
       "        <matplotlib.axes._subplots.AxesSubplot object at 0x7f4bf338b518>,\n",
       "        <matplotlib.axes._subplots.AxesSubplot object at 0x7f4bf338b898>],\n",
       "       [<matplotlib.axes._subplots.AxesSubplot object at 0x7f4bf3304160>,\n",
       "        <matplotlib.axes._subplots.AxesSubplot object at 0x7f4bf32cbeb8>,\n",
       "        <matplotlib.axes._subplots.AxesSubplot object at 0x7f4bf32906d8>],\n",
       "       [<matplotlib.axes._subplots.AxesSubplot object at 0x7f4bf32f2b70>,\n",
       "        <matplotlib.axes._subplots.AxesSubplot object at 0x7f4bf58e4d30>,\n",
       "        <matplotlib.axes._subplots.AxesSubplot object at 0x7f4bf5977358>]], dtype=object)"
      ]
     },
     "execution_count": 28,
     "metadata": {},
     "output_type": "execute_result"
    },
    {
     "data": {
      "image/png": "[encoded data removed]",
      "text/plain": [
       "<matplotlib.figure.Figure at 0x7f4bf0556d30>"
      ]
     },
     "metadata": {
      "needs_background": "light"
     },
     "output_type": "display_data"
    }
   ],
   "source": [
    "print(df.describe())\n",
    "df.hist(figsize=(8,8))"
   ]
  },
  {
   "cell_type": "code",
   "execution_count": 29,
   "metadata": {},
   "outputs": [
    {
     "name": "stdout",
     "output_type": "stream",
     "text": [
      "<class 'pandas.core.frame.DataFrame'>\n",
      "RangeIndex: 10866 entries, 0 to 10865\n",
      "Data columns (total 21 columns):\n",
      "id                      10866 non-null int64\n",
      "imdb_id                 10856 non-null object\n",
      "popularity              10866 non-null float64\n",
      "budget                  10866 non-null int64\n",
      "revenue                 10866 non-null int64\n",
      "original_title          10866 non-null object\n",
      "cast                    10790 non-null object\n",
      "homepage                2936 non-null object\n",
      "director                10822 non-null object\n",
      "tagline                 8042 non-null object\n",
      "keywords                9373 non-null object\n",
      "overview                10862 non-null object\n",
      "runtime                 10866 non-null int64\n",
      "genres                  10843 non-null object\n",
      "production_companies    9836 non-null object\n",
      "release_date            10866 non-null object\n",
      "vote_count              10866 non-null int64\n",
      "vote_average            10866 non-null float64\n",
      "release_year            10866 non-null int64\n",
      "budget_adj              10866 non-null float64\n",
      "revenue_adj             10866 non-null float64\n",
      "dtypes: float64(4), int64(6), object(11)\n",
      "memory usage: 1.7+ MB\n"
     ]
    }
   ],
   "source": [
    "df.info()"
   ]
  },
  {
   "cell_type": "code",
   "execution_count": 30,
   "metadata": {},
   "outputs": [
    {
     "data": {
      "text/plain": [
       "id                         0\n",
       "imdb_id                   10\n",
       "popularity                 0\n",
       "budget                     0\n",
       "revenue                    0\n",
       "original_title             0\n",
       "cast                      76\n",
       "homepage                7930\n",
       "director                  44\n",
       "tagline                 2824\n",
       "keywords                1493\n",
       "overview                   4\n",
       "runtime                    0\n",
       "genres                    23\n",
       "production_companies    1030\n",
       "release_date               0\n",
       "vote_count                 0\n",
       "vote_average               0\n",
       "release_year               0\n",
       "budget_adj                 0\n",
       "revenue_adj                0\n",
       "dtype: int64"
      ]
     },
     "execution_count": 30,
     "metadata": {},
     "output_type": "execute_result"
    }
   ],
   "source": [
    "df.isna().sum()"
   ]
  },
  {
   "cell_type": "markdown",
   "metadata": {},
   "source": [
    "notice how columns like keywords, tagline and homepage have a lot of missing values. i will be dropping these columns as they are not needed. i will be working mostly with the quantitative data in this dataset."
   ]
  },
  {
   "cell_type": "code",
   "execution_count": 31,
   "metadata": {},
   "outputs": [
    {
     "data": {
      "text/html": [
       "<div>\n",
       "<style scoped>\n",
       "    .dataframe tbody tr th:only-of-type {\n",
       "        vertical-align: middle;\n",
       "    }\n",
       "\n",
       "    .dataframe tbody tr th {\n",
       "        vertical-align: top;\n",
       "    }\n",
       "\n",
       "    .dataframe thead th {\n",
       "        text-align: right;\n",
       "    }\n",
       "</style>\n",
       "<table border=\"1\" class=\"dataframe\">\n",
       "  <thead>\n",
       "    <tr style=\"text-align: right;\">\n",
       "      <th></th>\n",
       "      <th>id</th>\n",
       "      <th>imdb_id</th>\n",
       "      <th>popularity</th>\n",
       "      <th>budget</th>\n",
       "      <th>revenue</th>\n",
       "      <th>original_title</th>\n",
       "      <th>cast</th>\n",
       "      <th>homepage</th>\n",
       "      <th>director</th>\n",
       "      <th>tagline</th>\n",
       "      <th>...</th>\n",
       "      <th>overview</th>\n",
       "      <th>runtime</th>\n",
       "      <th>genres</th>\n",
       "      <th>production_companies</th>\n",
       "      <th>release_date</th>\n",
       "      <th>vote_count</th>\n",
       "      <th>vote_average</th>\n",
       "      <th>release_year</th>\n",
       "      <th>budget_adj</th>\n",
       "      <th>revenue_adj</th>\n",
       "    </tr>\n",
       "  </thead>\n",
       "  <tbody>\n",
       "    <tr>\n",
       "      <th>228</th>\n",
       "      <td>300792</td>\n",
       "      <td>tt1618448</td>\n",
       "      <td>0.584363</td>\n",
       "      <td>0</td>\n",
       "      <td>0</td>\n",
       "      <td>Racing Extinction</td>\n",
       "      <td>Elon Musk|Jane Goodall|Louie Psihoyos|Leilani ...</td>\n",
       "      <td>http://www.racingextinction.com</td>\n",
       "      <td>Louie Psihoyos</td>\n",
       "      <td>It's better to light one candle than curse the...</td>\n",
       "      <td>...</td>\n",
       "      <td>An unlikely team of activists and innovators h...</td>\n",
       "      <td>90</td>\n",
       "      <td>Adventure|Documentary</td>\n",
       "      <td>NaN</td>\n",
       "      <td>1/24/15</td>\n",
       "      <td>36</td>\n",
       "      <td>7.8</td>\n",
       "      <td>2015</td>\n",
       "      <td>0.000000e+00</td>\n",
       "      <td>0.000000e+00</td>\n",
       "    </tr>\n",
       "    <tr>\n",
       "      <th>259</th>\n",
       "      <td>360603</td>\n",
       "      <td>tt5133572</td>\n",
       "      <td>0.476341</td>\n",
       "      <td>0</td>\n",
       "      <td>0</td>\n",
       "      <td>Crown for Christmas</td>\n",
       "      <td>Danica McKellar|Rupert Penry-Jones|Ellie Botte...</td>\n",
       "      <td>NaN</td>\n",
       "      <td>Alex Zamm</td>\n",
       "      <td>NaN</td>\n",
       "      <td>...</td>\n",
       "      <td>After getting fired from her job as a maid at ...</td>\n",
       "      <td>84</td>\n",
       "      <td>TV Movie</td>\n",
       "      <td>NaN</td>\n",
       "      <td>11/27/15</td>\n",
       "      <td>10</td>\n",
       "      <td>7.6</td>\n",
       "      <td>2015</td>\n",
       "      <td>0.000000e+00</td>\n",
       "      <td>0.000000e+00</td>\n",
       "    </tr>\n",
       "    <tr>\n",
       "      <th>295</th>\n",
       "      <td>363483</td>\n",
       "      <td>tt5133810</td>\n",
       "      <td>0.417191</td>\n",
       "      <td>0</td>\n",
       "      <td>0</td>\n",
       "      <td>12 Gifts of Christmas</td>\n",
       "      <td>Katrina Law|Donna Mills|Aaron O'Connell|Melani...</td>\n",
       "      <td>NaN</td>\n",
       "      <td>Peter Sullivan</td>\n",
       "      <td>NaN</td>\n",
       "      <td>...</td>\n",
       "      <td>When Anna Parisi, an unemployed fine arts pain...</td>\n",
       "      <td>84</td>\n",
       "      <td>Family|TV Movie</td>\n",
       "      <td>NaN</td>\n",
       "      <td>11/26/15</td>\n",
       "      <td>12</td>\n",
       "      <td>6.3</td>\n",
       "      <td>2015</td>\n",
       "      <td>0.000000e+00</td>\n",
       "      <td>0.000000e+00</td>\n",
       "    </tr>\n",
       "    <tr>\n",
       "      <th>298</th>\n",
       "      <td>354220</td>\n",
       "      <td>tt3826866</td>\n",
       "      <td>0.370258</td>\n",
       "      <td>0</td>\n",
       "      <td>0</td>\n",
       "      <td>The Girl in the Photographs</td>\n",
       "      <td>Kal Penn|Claudia Lee|Kenny Wormald|Toby Heming...</td>\n",
       "      <td>NaN</td>\n",
       "      <td>Nick Simon</td>\n",
       "      <td>NaN</td>\n",
       "      <td>...</td>\n",
       "      <td>Images coming from the crimes committed by a d...</td>\n",
       "      <td>95</td>\n",
       "      <td>Crime|Horror|Thriller</td>\n",
       "      <td>NaN</td>\n",
       "      <td>9/14/15</td>\n",
       "      <td>10</td>\n",
       "      <td>4.7</td>\n",
       "      <td>2015</td>\n",
       "      <td>0.000000e+00</td>\n",
       "      <td>0.000000e+00</td>\n",
       "    </tr>\n",
       "    <tr>\n",
       "      <th>328</th>\n",
       "      <td>308457</td>\n",
       "      <td>tt3090670</td>\n",
       "      <td>0.367617</td>\n",
       "      <td>0</td>\n",
       "      <td>0</td>\n",
       "      <td>Advantageous</td>\n",
       "      <td>Jacqueline Kim|James Urbaniak|Freya Adams|Ken ...</td>\n",
       "      <td>NaN</td>\n",
       "      <td>Jennifer Phang</td>\n",
       "      <td>NaN</td>\n",
       "      <td>...</td>\n",
       "      <td>In a near-future city where soaring opulence o...</td>\n",
       "      <td>92</td>\n",
       "      <td>Science Fiction|Drama|Family</td>\n",
       "      <td>NaN</td>\n",
       "      <td>6/23/15</td>\n",
       "      <td>29</td>\n",
       "      <td>6.4</td>\n",
       "      <td>2015</td>\n",
       "      <td>0.000000e+00</td>\n",
       "      <td>0.000000e+00</td>\n",
       "    </tr>\n",
       "    <tr>\n",
       "      <th>370</th>\n",
       "      <td>318279</td>\n",
       "      <td>tt2545428</td>\n",
       "      <td>0.314199</td>\n",
       "      <td>0</td>\n",
       "      <td>2334228</td>\n",
       "      <td>Meru</td>\n",
       "      <td>Conrad Anker|Grace Chin|Jimmy Chin|Amee Hinkley</td>\n",
       "      <td>http://www.merufilm.com/</td>\n",
       "      <td>Jimmy Chin|Elizabeth Chai Vasarhelyi</td>\n",
       "      <td>NaN</td>\n",
       "      <td>...</td>\n",
       "      <td>Meru is the electrifying story of three elite ...</td>\n",
       "      <td>89</td>\n",
       "      <td>Adventure|Documentary</td>\n",
       "      <td>NaN</td>\n",
       "      <td>1/25/15</td>\n",
       "      <td>42</td>\n",
       "      <td>6.9</td>\n",
       "      <td>2015</td>\n",
       "      <td>0.000000e+00</td>\n",
       "      <td>2.147489e+06</td>\n",
       "    </tr>\n",
       "    <tr>\n",
       "      <th>374</th>\n",
       "      <td>206197</td>\n",
       "      <td>tt1015471</td>\n",
       "      <td>0.302474</td>\n",
       "      <td>0</td>\n",
       "      <td>0</td>\n",
       "      <td>The Sisterhood of Night</td>\n",
       "      <td>Kara Hayward|Georgie Henley|Olivia DeJonge|Lau...</td>\n",
       "      <td>http://www.thesisterhoodofnight-movie.com/</td>\n",
       "      <td>Caryn Waechter</td>\n",
       "      <td>The Salem Witch Trials remixed.</td>\n",
       "      <td>...</td>\n",
       "      <td>When a teenage girl says she's the victim of a...</td>\n",
       "      <td>104</td>\n",
       "      <td>Mystery|Drama|Thriller</td>\n",
       "      <td>NaN</td>\n",
       "      <td>4/10/15</td>\n",
       "      <td>25</td>\n",
       "      <td>6.6</td>\n",
       "      <td>2015</td>\n",
       "      <td>0.000000e+00</td>\n",
       "      <td>0.000000e+00</td>\n",
       "    </tr>\n",
       "    <tr>\n",
       "      <th>382</th>\n",
       "      <td>306197</td>\n",
       "      <td>tt4145304</td>\n",
       "      <td>0.295946</td>\n",
       "      <td>0</td>\n",
       "      <td>0</td>\n",
       "      <td>Unexpected</td>\n",
       "      <td>Cobie Smulders|Gail Bean|Anders Holm|Elizabeth...</td>\n",
       "      <td>NaN</td>\n",
       "      <td>Kris Swanberg</td>\n",
       "      <td>No one is ever really prepared.</td>\n",
       "      <td>...</td>\n",
       "      <td>An inner-city high school teacher discovers sh...</td>\n",
       "      <td>90</td>\n",
       "      <td>Drama|Comedy</td>\n",
       "      <td>NaN</td>\n",
       "      <td>7/24/15</td>\n",
       "      <td>22</td>\n",
       "      <td>5.7</td>\n",
       "      <td>2015</td>\n",
       "      <td>0.000000e+00</td>\n",
       "      <td>0.000000e+00</td>\n",
       "    </tr>\n",
       "    <tr>\n",
       "      <th>388</th>\n",
       "      <td>323967</td>\n",
       "      <td>tt2016335</td>\n",
       "      <td>0.289526</td>\n",
       "      <td>700000</td>\n",
       "      <td>0</td>\n",
       "      <td>Walter</td>\n",
       "      <td>Andrew J. West|Justin Kirk|Virginia Madsen|Wil...</td>\n",
       "      <td>NaN</td>\n",
       "      <td>Anna Mastro</td>\n",
       "      <td>Heaven or hell. It's in his hands.</td>\n",
       "      <td>...</td>\n",
       "      <td>A ticket-taker at the local cinema believes he...</td>\n",
       "      <td>87</td>\n",
       "      <td>Drama|Comedy</td>\n",
       "      <td>NaN</td>\n",
       "      <td>3/13/15</td>\n",
       "      <td>12</td>\n",
       "      <td>5.2</td>\n",
       "      <td>2015</td>\n",
       "      <td>6.439997e+05</td>\n",
       "      <td>0.000000e+00</td>\n",
       "    </tr>\n",
       "    <tr>\n",
       "      <th>393</th>\n",
       "      <td>343284</td>\n",
       "      <td>tt3602128</td>\n",
       "      <td>0.283194</td>\n",
       "      <td>2000000</td>\n",
       "      <td>0</td>\n",
       "      <td>Night Of The Living Deb</td>\n",
       "      <td>Maria Thayer|Chris Marquette|Ray Wise|Michael ...</td>\n",
       "      <td>NaN</td>\n",
       "      <td>Kyle Rankin</td>\n",
       "      <td>NaN</td>\n",
       "      <td>...</td>\n",
       "      <td>After a one night stand Deb wakes up in the mi...</td>\n",
       "      <td>85</td>\n",
       "      <td>Comedy|Horror</td>\n",
       "      <td>NaN</td>\n",
       "      <td>8/29/15</td>\n",
       "      <td>13</td>\n",
       "      <td>5.7</td>\n",
       "      <td>2015</td>\n",
       "      <td>1.839999e+06</td>\n",
       "      <td>0.000000e+00</td>\n",
       "    </tr>\n",
       "  </tbody>\n",
       "</table>\n",
       "<p>10 rows × 21 columns</p>\n",
       "</div>"
      ],
      "text/plain": [
       "         id    imdb_id  popularity   budget  revenue  \\\n",
       "228  300792  tt1618448    0.584363        0        0   \n",
       "259  360603  tt5133572    0.476341        0        0   \n",
       "295  363483  tt5133810    0.417191        0        0   \n",
       "298  354220  tt3826866    0.370258        0        0   \n",
       "328  308457  tt3090670    0.367617        0        0   \n",
       "370  318279  tt2545428    0.314199        0  2334228   \n",
       "374  206197  tt1015471    0.302474        0        0   \n",
       "382  306197  tt4145304    0.295946        0        0   \n",
       "388  323967  tt2016335    0.289526   700000        0   \n",
       "393  343284  tt3602128    0.283194  2000000        0   \n",
       "\n",
       "                  original_title  \\\n",
       "228            Racing Extinction   \n",
       "259          Crown for Christmas   \n",
       "295        12 Gifts of Christmas   \n",
       "298  The Girl in the Photographs   \n",
       "328                 Advantageous   \n",
       "370                         Meru   \n",
       "374      The Sisterhood of Night   \n",
       "382                   Unexpected   \n",
       "388                       Walter   \n",
       "393      Night Of The Living Deb   \n",
       "\n",
       "                                                  cast  \\\n",
       "228  Elon Musk|Jane Goodall|Louie Psihoyos|Leilani ...   \n",
       "259  Danica McKellar|Rupert Penry-Jones|Ellie Botte...   \n",
       "295  Katrina Law|Donna Mills|Aaron O'Connell|Melani...   \n",
       "298  Kal Penn|Claudia Lee|Kenny Wormald|Toby Heming...   \n",
       "328  Jacqueline Kim|James Urbaniak|Freya Adams|Ken ...   \n",
       "370    Conrad Anker|Grace Chin|Jimmy Chin|Amee Hinkley   \n",
       "374  Kara Hayward|Georgie Henley|Olivia DeJonge|Lau...   \n",
       "382  Cobie Smulders|Gail Bean|Anders Holm|Elizabeth...   \n",
       "388  Andrew J. West|Justin Kirk|Virginia Madsen|Wil...   \n",
       "393  Maria Thayer|Chris Marquette|Ray Wise|Michael ...   \n",
       "\n",
       "                                       homepage  \\\n",
       "228             http://www.racingextinction.com   \n",
       "259                                         NaN   \n",
       "295                                         NaN   \n",
       "298                                         NaN   \n",
       "328                                         NaN   \n",
       "370                    http://www.merufilm.com/   \n",
       "374  http://www.thesisterhoodofnight-movie.com/   \n",
       "382                                         NaN   \n",
       "388                                         NaN   \n",
       "393                                         NaN   \n",
       "\n",
       "                                 director  \\\n",
       "228                        Louie Psihoyos   \n",
       "259                             Alex Zamm   \n",
       "295                        Peter Sullivan   \n",
       "298                            Nick Simon   \n",
       "328                        Jennifer Phang   \n",
       "370  Jimmy Chin|Elizabeth Chai Vasarhelyi   \n",
       "374                        Caryn Waechter   \n",
       "382                         Kris Swanberg   \n",
       "388                           Anna Mastro   \n",
       "393                           Kyle Rankin   \n",
       "\n",
       "                                               tagline      ...       \\\n",
       "228  It's better to light one candle than curse the...      ...        \n",
       "259                                                NaN      ...        \n",
       "295                                                NaN      ...        \n",
       "298                                                NaN      ...        \n",
       "328                                                NaN      ...        \n",
       "370                                                NaN      ...        \n",
       "374                    The Salem Witch Trials remixed.      ...        \n",
       "382                    No one is ever really prepared.      ...        \n",
       "388                 Heaven or hell. It's in his hands.      ...        \n",
       "393                                                NaN      ...        \n",
       "\n",
       "                                              overview runtime  \\\n",
       "228  An unlikely team of activists and innovators h...      90   \n",
       "259  After getting fired from her job as a maid at ...      84   \n",
       "295  When Anna Parisi, an unemployed fine arts pain...      84   \n",
       "298  Images coming from the crimes committed by a d...      95   \n",
       "328  In a near-future city where soaring opulence o...      92   \n",
       "370  Meru is the electrifying story of three elite ...      89   \n",
       "374  When a teenage girl says she's the victim of a...     104   \n",
       "382  An inner-city high school teacher discovers sh...      90   \n",
       "388  A ticket-taker at the local cinema believes he...      87   \n",
       "393  After a one night stand Deb wakes up in the mi...      85   \n",
       "\n",
       "                           genres production_companies release_date  \\\n",
       "228         Adventure|Documentary                  NaN      1/24/15   \n",
       "259                      TV Movie                  NaN     11/27/15   \n",
       "295               Family|TV Movie                  NaN     11/26/15   \n",
       "298         Crime|Horror|Thriller                  NaN      9/14/15   \n",
       "328  Science Fiction|Drama|Family                  NaN      6/23/15   \n",
       "370         Adventure|Documentary                  NaN      1/25/15   \n",
       "374        Mystery|Drama|Thriller                  NaN      4/10/15   \n",
       "382                  Drama|Comedy                  NaN      7/24/15   \n",
       "388                  Drama|Comedy                  NaN      3/13/15   \n",
       "393                 Comedy|Horror                  NaN      8/29/15   \n",
       "\n",
       "    vote_count  vote_average  release_year    budget_adj   revenue_adj  \n",
       "228         36           7.8          2015  0.000000e+00  0.000000e+00  \n",
       "259         10           7.6          2015  0.000000e+00  0.000000e+00  \n",
       "295         12           6.3          2015  0.000000e+00  0.000000e+00  \n",
       "298         10           4.7          2015  0.000000e+00  0.000000e+00  \n",
       "328         29           6.4          2015  0.000000e+00  0.000000e+00  \n",
       "370         42           6.9          2015  0.000000e+00  2.147489e+06  \n",
       "374         25           6.6          2015  0.000000e+00  0.000000e+00  \n",
       "382         22           5.7          2015  0.000000e+00  0.000000e+00  \n",
       "388         12           5.2          2015  6.439997e+05  0.000000e+00  \n",
       "393         13           5.7          2015  1.839999e+06  0.000000e+00  \n",
       "\n",
       "[10 rows x 21 columns]"
      ]
     },
     "execution_count": 31,
     "metadata": {},
     "output_type": "execute_result"
    }
   ],
   "source": [
    "no_pc_df=df[df['production_companies'].isnull()]\n",
    "no_pc_df.head(10)"
   ]
  },
  {
   "cell_type": "markdown",
   "metadata": {},
   "source": [
    "I moved rows with no production companies into a new dataframe for further inspection later before i start cleaning the data.\n",
    "Notice that budget and revenue columns are mostly zero and this could just be a general oversight in the data collection. As such i will be dropping the production companies column with null values."
   ]
  },
  {
   "cell_type": "code",
   "execution_count": 32,
   "metadata": {},
   "outputs": [
    {
     "data": {
      "text/plain": [
       "array([[<matplotlib.axes._subplots.AxesSubplot object at 0x7f4bf63ce278>,\n",
       "        <matplotlib.axes._subplots.AxesSubplot object at 0x7f4bf650c400>,\n",
       "        <matplotlib.axes._subplots.AxesSubplot object at 0x7f4beda3e128>],\n",
       "       [<matplotlib.axes._subplots.AxesSubplot object at 0x7f4bf32564e0>,\n",
       "        <matplotlib.axes._subplots.AxesSubplot object at 0x7f4bf6a5f668>,\n",
       "        <matplotlib.axes._subplots.AxesSubplot object at 0x7f4bf6a5fe10>],\n",
       "       [<matplotlib.axes._subplots.AxesSubplot object at 0x7f4bf6aa2630>,\n",
       "        <matplotlib.axes._subplots.AxesSubplot object at 0x7f4bf69df0b8>,\n",
       "        <matplotlib.axes._subplots.AxesSubplot object at 0x7f4bf69734e0>],\n",
       "       [<matplotlib.axes._subplots.AxesSubplot object at 0x7f4bf6b72080>,\n",
       "        <matplotlib.axes._subplots.AxesSubplot object at 0x7f4bf6b2ea20>,\n",
       "        <matplotlib.axes._subplots.AxesSubplot object at 0x7f4bf62439e8>]], dtype=object)"
      ]
     },
     "execution_count": 32,
     "metadata": {},
     "output_type": "execute_result"
    },
    {
     "data": {
      "image/png": "[encoded data removed]",
      "text/plain": [
       "<matplotlib.figure.Figure at 0x7f4bf63e6ba8>"
      ]
     },
     "metadata": {
      "needs_background": "light"
     },
     "output_type": "display_data"
    }
   ],
   "source": [
    "df[df.revenue==0].hist(figsize=(8,8))"
   ]
  },
  {
   "cell_type": "markdown",
   "metadata": {},
   "source": [
    "<a id='wrangling'></a>\n",
    "## Data Wrangling and Cleaning\n",
    "\n",
    "### General Properties\n",
    "The dataset has 10866 rows and 21 columns. It contains one duplicate row, columns with null values and colums like budget with many zero values."
   ]
  },
  {
   "cell_type": "markdown",
   "metadata": {},
   "source": [
    "checked for duplicates and dropped it\n"
   ]
  },
  {
   "cell_type": "code",
   "execution_count": 33,
   "metadata": {},
   "outputs": [
    {
     "name": "stdout",
     "output_type": "stream",
     "text": [
      "1\n"
     ]
    }
   ],
   "source": [
    "print(df.duplicated().sum())\n",
    "df[df.duplicated()]\n",
    "df.drop_duplicates(inplace=True)\n"
   ]
  },
  {
   "cell_type": "markdown",
   "metadata": {},
   "source": [
    "dropped columns i won't be analysing."
   ]
  },
  {
   "cell_type": "code",
   "execution_count": 34,
   "metadata": {},
   "outputs": [
    {
     "name": "stdout",
     "output_type": "stream",
     "text": [
      "(10865, 14)\n"
     ]
    },
    {
     "data": {
      "text/plain": [
       "id                 0\n",
       "imdb_id           10\n",
       "popularity         0\n",
       "budget             0\n",
       "revenue            0\n",
       "original_title     0\n",
       "director          44\n",
       "runtime            0\n",
       "release_date       0\n",
       "vote_count         0\n",
       "vote_average       0\n",
       "release_year       0\n",
       "budget_adj         0\n",
       "revenue_adj        0\n",
       "dtype: int64"
      ]
     },
     "execution_count": 34,
     "metadata": {},
     "output_type": "execute_result"
    }
   ],
   "source": [
    "blah=['homepage', 'tagline','overview','keywords', 'cast','genres','production_companies']\n",
    "df.drop(blah, axis=1, inplace=True)\n",
    "print(df.shape)\n",
    "df.isnull().sum()\n"
   ]
  },
  {
   "cell_type": "markdown",
   "metadata": {},
   "source": [
    "checked for number of rows with zero budget,revenue and their adjusted columns.\n",
    "*replaced zero with the average of these columns."
   ]
  },
  {
   "cell_type": "code",
   "execution_count": 35,
   "metadata": {},
   "outputs": [
    {
     "name": "stdout",
     "output_type": "stream",
     "text": [
      "(5696, 14)\n",
      "(6016, 14)\n",
      "(5696, 14)\n",
      "(6016, 14)\n",
      "(31, 14)\n"
     ]
    },
    {
     "data": {
      "text/plain": [
       "(0, 14)"
      ]
     },
     "execution_count": 35,
     "metadata": {},
     "output_type": "execute_result"
    }
   ],
   "source": [
    "money_col=['budget','revenue','budget_adj','revenue_adj', 'runtime']\n",
    "for col in money_col:\n",
    "    print(df[df[col]==0].shape)\n",
    "    col_avg = df[col].mean()\n",
    "    df[col].replace(0, col_avg, inplace=True)\n",
    "df[df['revenue']==0].shape"
   ]
  },
  {
   "cell_type": "code",
   "execution_count": 36,
   "metadata": {},
   "outputs": [
    {
     "name": "stdout",
     "output_type": "stream",
     "text": [
      "(10815, 14)\n",
      "<class 'pandas.core.frame.DataFrame'>\n",
      "Int64Index: 10815 entries, 0 to 10865\n",
      "Data columns (total 14 columns):\n",
      "id                10815 non-null int64\n",
      "imdb_id           10815 non-null object\n",
      "popularity        10815 non-null float64\n",
      "budget            10815 non-null float64\n",
      "revenue           10815 non-null float64\n",
      "original_title    10815 non-null object\n",
      "director          10815 non-null object\n",
      "runtime           10815 non-null float64\n",
      "release_date      10815 non-null object\n",
      "vote_count        10815 non-null int64\n",
      "vote_average      10815 non-null float64\n",
      "release_year      10815 non-null int64\n",
      "budget_adj        10815 non-null float64\n",
      "revenue_adj       10815 non-null float64\n",
      "dtypes: float64(7), int64(3), object(4)\n",
      "memory usage: 1.2+ MB\n"
     ]
    }
   ],
   "source": [
    "df.dropna(how='any', inplace=True)\n",
    "print(df.shape)\n",
    "df.isna().sum()\n",
    "df.info()"
   ]
  },
  {
   "cell_type": "markdown",
   "metadata": {},
   "source": [
    "<a id='eda'></a>\n",
    "## Exploratory Data Analysis\n",
    "\n",
    "\n",
    "### Research Question 1:  What year were the most movies released?\n"
   ]
  },
  {
   "cell_type": "markdown",
   "metadata": {},
   "source": [
    "I wonder what year tmdb released the most movies and also total budget and revenue accrued"
   ]
  },
  {
   "cell_type": "code",
   "execution_count": 37,
   "metadata": {},
   "outputs": [],
   "source": [
    "def bar_chart(data, x_axis, y_axis, Title, y_label):\n",
    "    data.plot(x_axis, y_axis , kind='bar', title= Title, figsize=(15,10))\n",
    "    plt.ylabel(y_label)\n",
    "    plt.show()"
   ]
  },
  {
   "cell_type": "code",
   "execution_count": 38,
   "metadata": {},
   "outputs": [
    {
     "data": {
      "text/html": [
       "<div>\n",
       "<style scoped>\n",
       "    .dataframe tbody tr th:only-of-type {\n",
       "        vertical-align: middle;\n",
       "    }\n",
       "\n",
       "    .dataframe tbody tr th {\n",
       "        vertical-align: top;\n",
       "    }\n",
       "\n",
       "    .dataframe thead th {\n",
       "        text-align: right;\n",
       "    }\n",
       "</style>\n",
       "<table border=\"1\" class=\"dataframe\">\n",
       "  <thead>\n",
       "    <tr style=\"text-align: right;\">\n",
       "      <th></th>\n",
       "      <th>release_year</th>\n",
       "      <th>popularity</th>\n",
       "      <th>budget</th>\n",
       "      <th>revenue</th>\n",
       "      <th>vote_count</th>\n",
       "      <th>vote_average</th>\n",
       "      <th>budget_adj</th>\n",
       "      <th>revenue_adj</th>\n",
       "      <th>no_of_movies</th>\n",
       "    </tr>\n",
       "  </thead>\n",
       "  <tbody>\n",
       "    <tr>\n",
       "      <th>0</th>\n",
       "      <td>1960</td>\n",
       "      <td>14.685834</td>\n",
       "      <td>3.584155e+08</td>\n",
       "      <td>1.140677e+09</td>\n",
       "      <td>2481</td>\n",
       "      <td>202.4</td>\n",
       "      <td>5.662727e+08</td>\n",
       "      <td>2.353342e+09</td>\n",
       "      <td>32</td>\n",
       "    </tr>\n",
       "    <tr>\n",
       "      <th>1</th>\n",
       "      <td>1961</td>\n",
       "      <td>13.107641</td>\n",
       "      <td>3.093741e+08</td>\n",
       "      <td>1.174085e+09</td>\n",
       "      <td>2405</td>\n",
       "      <td>197.6</td>\n",
       "      <td>6.524611e+08</td>\n",
       "      <td>3.542371e+09</td>\n",
       "      <td>31</td>\n",
       "    </tr>\n",
       "    <tr>\n",
       "      <th>2</th>\n",
       "      <td>1962</td>\n",
       "      <td>14.553069</td>\n",
       "      <td>3.179593e+08</td>\n",
       "      <td>1.131598e+09</td>\n",
       "      <td>2392</td>\n",
       "      <td>203.0</td>\n",
       "      <td>7.103597e+08</td>\n",
       "      <td>2.735483e+09</td>\n",
       "      <td>32</td>\n",
       "    </tr>\n",
       "    <tr>\n",
       "      <th>3</th>\n",
       "      <td>1963</td>\n",
       "      <td>17.092019</td>\n",
       "      <td>4.096901e+08</td>\n",
       "      <td>1.262731e+09</td>\n",
       "      <td>2816</td>\n",
       "      <td>215.2</td>\n",
       "      <td>9.257810e+08</td>\n",
       "      <td>2.721320e+09</td>\n",
       "      <td>34</td>\n",
       "    </tr>\n",
       "    <tr>\n",
       "      <th>4</th>\n",
       "      <td>1964</td>\n",
       "      <td>17.321989</td>\n",
       "      <td>4.928360e+08</td>\n",
       "      <td>1.695096e+09</td>\n",
       "      <td>3137</td>\n",
       "      <td>260.9</td>\n",
       "      <td>8.216239e+08</td>\n",
       "      <td>4.143739e+09</td>\n",
       "      <td>42</td>\n",
       "    </tr>\n",
       "  </tbody>\n",
       "</table>\n",
       "</div>"
      ],
      "text/plain": [
       "   release_year  popularity        budget       revenue  vote_count  \\\n",
       "0          1960   14.685834  3.584155e+08  1.140677e+09        2481   \n",
       "1          1961   13.107641  3.093741e+08  1.174085e+09        2405   \n",
       "2          1962   14.553069  3.179593e+08  1.131598e+09        2392   \n",
       "3          1963   17.092019  4.096901e+08  1.262731e+09        2816   \n",
       "4          1964   17.321989  4.928360e+08  1.695096e+09        3137   \n",
       "\n",
       "   vote_average    budget_adj   revenue_adj  no_of_movies  \n",
       "0         202.4  5.662727e+08  2.353342e+09            32  \n",
       "1         197.6  6.524611e+08  3.542371e+09            31  \n",
       "2         203.0  7.103597e+08  2.735483e+09            32  \n",
       "3         215.2  9.257810e+08  2.721320e+09            34  \n",
       "4         260.9  8.216239e+08  4.143739e+09            42  "
      ]
     },
     "execution_count": 38,
     "metadata": {},
     "output_type": "execute_result"
    }
   ],
   "source": [
    "col_group=['popularity','budget','revenue', 'vote_count','vote_average','budget_adj','revenue_adj']\n",
    "\n",
    "movie_df=df.groupby('release_year')[col_group].agg(sum)\n",
    "\n",
    "movie_df['no_of_movies']=df.groupby('release_year')['imdb_id'].count()\n",
    "movie_df.reset_index(inplace=True)\n",
    "movie_df.head()"
   ]
  },
  {
   "cell_type": "code",
   "execution_count": 39,
   "metadata": {},
   "outputs": [
    {
     "data": {
      "text/html": [
       "<div>\n",
       "<style scoped>\n",
       "    .dataframe tbody tr th:only-of-type {\n",
       "        vertical-align: middle;\n",
       "    }\n",
       "\n",
       "    .dataframe tbody tr th {\n",
       "        vertical-align: top;\n",
       "    }\n",
       "\n",
       "    .dataframe thead th {\n",
       "        text-align: right;\n",
       "    }\n",
       "</style>\n",
       "<table border=\"1\" class=\"dataframe\">\n",
       "  <thead>\n",
       "    <tr style=\"text-align: right;\">\n",
       "      <th></th>\n",
       "      <th>release_year</th>\n",
       "      <th>popularity</th>\n",
       "      <th>budget</th>\n",
       "      <th>revenue</th>\n",
       "      <th>vote_count</th>\n",
       "      <th>vote_average</th>\n",
       "      <th>budget_adj</th>\n",
       "      <th>revenue_adj</th>\n",
       "      <th>no_of_movies</th>\n",
       "    </tr>\n",
       "  </thead>\n",
       "  <tbody>\n",
       "    <tr>\n",
       "      <th>54</th>\n",
       "      <td>2014</td>\n",
       "      <td>619.903104</td>\n",
       "      <td>1.463639e+10</td>\n",
       "      <td>4.289048e+10</td>\n",
       "      <td>206136</td>\n",
       "      <td>4104.7</td>\n",
       "      <td>1.535398e+10</td>\n",
       "      <td>4.634916e+10</td>\n",
       "      <td>694</td>\n",
       "    </tr>\n",
       "  </tbody>\n",
       "</table>\n",
       "</div>"
      ],
      "text/plain": [
       "    release_year  popularity        budget       revenue  vote_count  \\\n",
       "54          2014  619.903104  1.463639e+10  4.289048e+10      206136   \n",
       "\n",
       "    vote_average    budget_adj   revenue_adj  no_of_movies  \n",
       "54        4104.7  1.535398e+10  4.634916e+10           694  "
      ]
     },
     "execution_count": 39,
     "metadata": {},
     "output_type": "execute_result"
    }
   ],
   "source": [
    "movie_df[movie_df.no_of_movies==movie_df.no_of_movies.max()]"
   ]
  },
  {
   "cell_type": "code",
   "execution_count": 40,
   "metadata": {},
   "outputs": [
    {
     "data": {
      "image/png": "[encoded data removed]",
      "text/plain": [
       "<matplotlib.figure.Figure at 0x7f4bf6b0f0f0>"
      ]
     },
     "metadata": {
      "needs_background": "light"
     },
     "output_type": "display_data"
    }
   ],
   "source": [
    "bar_chart(movie_df, 'release_year','no_of_movies','Number of movies in each year', 'no_of_movies')\n"
   ]
  },
  {
   "cell_type": "markdown",
   "metadata": {},
   "source": [
    "Number of movies produced eaach year has increased greatly"
   ]
  },
  {
   "cell_type": "code",
   "execution_count": 41,
   "metadata": {},
   "outputs": [
    {
     "data": {
      "image/png": "[encoded data removed]",
      "text/plain": [
       "<matplotlib.figure.Figure at 0x7f4bf6c96b00>"
      ]
     },
     "metadata": {
      "needs_background": "light"
     },
     "output_type": "display_data"
    }
   ],
   "source": [
    "bar_chart(movie_df, 'release_year', 'budget' ,'Total budget in each year', 'budget')"
   ]
  },
  {
   "cell_type": "markdown",
   "metadata": {},
   "source": [
    "the chart above shows movies have gotten more popular in recent years. Let's check if movie production has increased too and how this popularity has affected the revenue."
   ]
  },
  {
   "cell_type": "code",
   "execution_count": 42,
   "metadata": {},
   "outputs": [
    {
     "data": {
      "text/plain": [
       "<matplotlib.legend.Legend at 0x7f4bf2f12908>"
      ]
     },
     "execution_count": 42,
     "metadata": {},
     "output_type": "execute_result"
    },
    {
     "data": {
      "image/png": "[encoded data removed]",
      "text/plain": [
       "<matplotlib.figure.Figure at 0x7f4bf58bd438>"
      ]
     },
     "metadata": {
      "needs_background": "light"
     },
     "output_type": "display_data"
    }
   ],
   "source": [
    "fig=plt.subplots(figsize=(15,10))\n",
    "x=movie_df.release_year\n",
    "y1=movie_df.budget\n",
    "y2=movie_df.revenue\n",
    "y3=movie_df.popularity\n",
    "plt.plot(x,y1, color='red', label='budget')\n",
    "plt.plot(x,y2, color='green', label='revenue')\n",
    "plt.xlabel('Years of movie release')\n",
    "plt.ylabel('money in dollars')\n",
    "plt.legend()"
   ]
  },
  {
   "cell_type": "markdown",
   "metadata": {},
   "source": [
    "we notice the revenue accrued between years 2000 to 2015 is more than double the budget. Overall they never ran at a loss in any year.Although within the years 1960 and 1970, there are 3 points where revenue was nearly equal to budget. Also spending on movie production has increased alongside revenue."
   ]
  },
  {
   "cell_type": "code",
   "execution_count": 43,
   "metadata": {},
   "outputs": [
    {
     "data": {
      "image/png": "[encoded data removed]",
      "text/plain": [
       "<matplotlib.figure.Figure at 0x7f4bf6215c18>"
      ]
     },
     "metadata": {
      "needs_background": "light"
     },
     "output_type": "display_data"
    },
    {
     "data": {
      "text/html": [
       "<div>\n",
       "<style scoped>\n",
       "    .dataframe tbody tr th:only-of-type {\n",
       "        vertical-align: middle;\n",
       "    }\n",
       "\n",
       "    .dataframe tbody tr th {\n",
       "        vertical-align: top;\n",
       "    }\n",
       "\n",
       "    .dataframe thead th {\n",
       "        text-align: right;\n",
       "    }\n",
       "</style>\n",
       "<table border=\"1\" class=\"dataframe\">\n",
       "  <thead>\n",
       "    <tr style=\"text-align: right;\">\n",
       "      <th></th>\n",
       "      <th>release_year</th>\n",
       "      <th>popularity</th>\n",
       "      <th>budget</th>\n",
       "      <th>revenue</th>\n",
       "      <th>vote_count</th>\n",
       "      <th>vote_average</th>\n",
       "      <th>budget_adj</th>\n",
       "      <th>revenue_adj</th>\n",
       "      <th>no_of_movies</th>\n",
       "      <th>profit</th>\n",
       "    </tr>\n",
       "  </thead>\n",
       "  <tbody>\n",
       "    <tr>\n",
       "      <th>55</th>\n",
       "      <td>2015</td>\n",
       "      <td>647.947523</td>\n",
       "      <td>1.368025e+10</td>\n",
       "      <td>4.309148e+10</td>\n",
       "      <td>182382</td>\n",
       "      <td>3681.5</td>\n",
       "      <td>1.428958e+10</td>\n",
       "      <td>4.568273e+10</td>\n",
       "      <td>626</td>\n",
       "      <td>2.941123e+10</td>\n",
       "    </tr>\n",
       "  </tbody>\n",
       "</table>\n",
       "</div>"
      ],
      "text/plain": [
       "    release_year  popularity        budget       revenue  vote_count  \\\n",
       "55          2015  647.947523  1.368025e+10  4.309148e+10      182382   \n",
       "\n",
       "    vote_average    budget_adj   revenue_adj  no_of_movies        profit  \n",
       "55        3681.5  1.428958e+10  4.568273e+10           626  2.941123e+10  "
      ]
     },
     "execution_count": 43,
     "metadata": {},
     "output_type": "execute_result"
    }
   ],
   "source": [
    "movie_df['profit']=movie_df['revenue']-movie_df['budget']\n",
    "bar_chart(movie_df, 'release_year', 'profit','Profit mades in movies in each year','Profit')\n",
    "movie_df[movie_df.profit==movie_df.profit.max()]"
   ]
  },
  {
   "cell_type": "code",
   "execution_count": 44,
   "metadata": {},
   "outputs": [
    {
     "data": {
      "text/html": [
       "<div>\n",
       "<style scoped>\n",
       "    .dataframe tbody tr th:only-of-type {\n",
       "        vertical-align: middle;\n",
       "    }\n",
       "\n",
       "    .dataframe tbody tr th {\n",
       "        vertical-align: top;\n",
       "    }\n",
       "\n",
       "    .dataframe thead th {\n",
       "        text-align: right;\n",
       "    }\n",
       "</style>\n",
       "<table border=\"1\" class=\"dataframe\">\n",
       "  <thead>\n",
       "    <tr style=\"text-align: right;\">\n",
       "      <th></th>\n",
       "      <th>release_year</th>\n",
       "      <th>popularity</th>\n",
       "      <th>budget</th>\n",
       "      <th>revenue</th>\n",
       "      <th>vote_count</th>\n",
       "      <th>vote_average</th>\n",
       "      <th>budget_adj</th>\n",
       "      <th>revenue_adj</th>\n",
       "      <th>no_of_movies</th>\n",
       "      <th>profit</th>\n",
       "    </tr>\n",
       "  </thead>\n",
       "  <tbody>\n",
       "    <tr>\n",
       "      <th>0</th>\n",
       "      <td>1960</td>\n",
       "      <td>14.685834</td>\n",
       "      <td>3.584155e+08</td>\n",
       "      <td>1.140677e+09</td>\n",
       "      <td>2481</td>\n",
       "      <td>202.4</td>\n",
       "      <td>5.662727e+08</td>\n",
       "      <td>2.353342e+09</td>\n",
       "      <td>32</td>\n",
       "      <td>7.822619e+08</td>\n",
       "    </tr>\n",
       "  </tbody>\n",
       "</table>\n",
       "</div>"
      ],
      "text/plain": [
       "   release_year  popularity        budget       revenue  vote_count  \\\n",
       "0          1960   14.685834  3.584155e+08  1.140677e+09        2481   \n",
       "\n",
       "   vote_average    budget_adj   revenue_adj  no_of_movies        profit  \n",
       "0         202.4  5.662727e+08  2.353342e+09            32  7.822619e+08  "
      ]
     },
     "execution_count": 44,
     "metadata": {},
     "output_type": "execute_result"
    }
   ],
   "source": [
    "movie_df[movie_df.profit==movie_df.profit.min()]"
   ]
  },
  {
   "cell_type": "markdown",
   "metadata": {},
   "source": [
    "1966 had the least profit and 2015 had the most profit."
   ]
  },
  {
   "cell_type": "markdown",
   "metadata": {},
   "source": [
    "### Research Question 2 : Does popularity affect vote_count?"
   ]
  },
  {
   "cell_type": "code",
   "execution_count": 45,
   "metadata": {},
   "outputs": [
    {
     "data": {
      "image/png": "[encoded data removed]",
      "text/plain": [
       "<matplotlib.figure.Figure at 0x7f4bf2f75860>"
      ]
     },
     "metadata": {
      "needs_background": "light"
     },
     "output_type": "display_data"
    }
   ],
   "source": [
    "\n",
    "plt.bar(df.release_year, df.popularity)\n",
    "plt.xticks(rotation=90)\n",
    "plt.show()"
   ]
  },
  {
   "cell_type": "code",
   "execution_count": 46,
   "metadata": {},
   "outputs": [
    {
     "name": "stdout",
     "output_type": "stream",
     "text": [
      "(18, 10)\n"
     ]
    },
    {
     "data": {
      "text/plain": [
       "37    1997\n",
       "38    1998\n",
       "39    1999\n",
       "41    2001\n",
       "42    2002\n",
       "43    2003\n",
       "44    2004\n",
       "45    2005\n",
       "46    2006\n",
       "47    2007\n",
       "48    2008\n",
       "49    2009\n",
       "50    2010\n",
       "51    2011\n",
       "52    2012\n",
       "53    2013\n",
       "54    2014\n",
       "55    2015\n",
       "Name: release_year, dtype: int64"
      ]
     },
     "execution_count": 46,
     "metadata": {},
     "output_type": "execute_result"
    }
   ],
   "source": [
    "df_pop=movie_df[movie_df.popularity>=movie_df.popularity.mean()]\n",
    "print(df_pop.shape)\n",
    "df_pop.head()\n",
    "df_pop.release_year"
   ]
  },
  {
   "cell_type": "markdown",
   "metadata": {},
   "source": [
    "Movies have gotten more popular since 1997"
   ]
  },
  {
   "cell_type": "code",
   "execution_count": 47,
   "metadata": {},
   "outputs": [
    {
     "data": {
      "text/plain": [
       "Text(0,0.5,'Popularity')"
      ]
     },
     "execution_count": 47,
     "metadata": {},
     "output_type": "execute_result"
    },
    {
     "data": {
      "image/png": "[encoded data removed]",
      "text/plain": [
       "<matplotlib.figure.Figure at 0x7f4bf2d18940>"
      ]
     },
     "metadata": {
      "needs_background": "light"
     },
     "output_type": "display_data"
    }
   ],
   "source": [
    "movie_df.plot('vote_average','popularity', kind='scatter', title='Popularity against Vote_count', figsize=(10,10))\n",
    "plt.ylabel('Popularity')"
   ]
  },
  {
   "cell_type": "code",
   "execution_count": 48,
   "metadata": {},
   "outputs": [
    {
     "data": {
      "text/plain": [
       "Text(0,0.5,'Popularity')"
      ]
     },
     "execution_count": 48,
     "metadata": {},
     "output_type": "execute_result"
    },
    {
     "data": {
      "image/png": "[encoded data removed]",
      "text/plain": [
       "<matplotlib.figure.Figure at 0x7f4bf2db5c18>"
      ]
     },
     "metadata": {
      "needs_background": "light"
     },
     "output_type": "display_data"
    }
   ],
   "source": [
    "df.plot('vote_average','popularity', kind='scatter', title='Popularity against Vote_count', figsize=(10,10))\n",
    "plt.ylabel('Popularity')"
   ]
  },
  {
   "cell_type": "markdown",
   "metadata": {},
   "source": [
    "Movie with more popularity got higher average votes than those with lower popularity"
   ]
  },
  {
   "cell_type": "markdown",
   "metadata": {},
   "source": [
    "<a id='conclusions'></a>\n",
    "## Conclusions\n",
    "\n",
    "There is a trend along the years. An increase in budget, revenue, popularity, vote_count and vote_average. All these columns are directly proportional and affect each other positively. although 2014 produced the most movies it has the second highest profit after 2015. \n",
    "\n",
    "Looking further into the years that had the most movie popularity, i noticed that years with low budget didn't get as much popularity as years with higher budgets. This might not mean anything and might just be due to the forward development of technology and its assesibility, and also population growth.\n",
    "\n",
    "We could look further into the data and check genres that had the highest votes and its correlation to its budget.This wasn't looked into as a movie is classified under various genres. Also, we could check the production companies that had the highest popularity and movie releases and in what years.This can be used to decide what production companies release the best movies and make the most profit if we were to make a movie. \n",
    "\n",
    "\n",
    "LIMITATIONS\n",
    " i can't say the count of movies is the total number of movies produced in those years but they sure are the ones which gave the most useful data for this dataset. Also there are columns with multiple inputs like genres. Yes a movie can have multiple genres but five is just too many for one movie. I would have liked to see what genres get the most votes and if this popularity has changed over the years. Not to forget we don't know what this vote means whether it's a good rating or a bad rating.\n"
   ]
  },
  {
   "cell_type": "code",
   "execution_count": 49,
   "metadata": {},
   "outputs": [
    {
     "data": {
      "text/plain": [
       "0"
      ]
     },
     "execution_count": 49,
     "metadata": {},
     "output_type": "execute_result"
    }
   ],
   "source": [
    "from subprocess import call\n",
    "call(['python', '-m', 'nbconvert', 'Investigate_a_Dataset.ipynb'])"
   ]
  },
  {
   "cell_type": "code",
   "execution_count": null,
   "metadata": {},
   "outputs": [],
   "source": []
  }
 ],
 "metadata": {
  "kernelspec": {
   "display_name": "Python 3",
   "language": "python",
   "name": "python3"
  },
  "language_info": {
   "codemirror_mode": {
    "name": "ipython",
    "version": 3
   },
   "file_extension": ".py",
   "mimetype": "text/x-python",
   "name": "python",
   "nbconvert_exporter": "python",
   "pygments_lexer": "ipython3",
   "version": "3.6.3"
  }
 },
 "nbformat": 4,
 "nbformat_minor": 2
}
